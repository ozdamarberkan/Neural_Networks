{
 "cells": [
  {
   "cell_type": "code",
   "execution_count": 1,
   "metadata": {},
   "outputs": [
    {
     "name": "stdout",
     "output_type": "stream",
     "text": [
      "[[0. 0. 0. 0. 1.]\n",
      " [0. 0. 0. 1. 1.]\n",
      " [0. 0. 1. 0. 1.]\n",
      " [0. 0. 1. 1. 1.]\n",
      " [0. 1. 0. 0. 1.]\n",
      " [0. 1. 0. 1. 1.]\n",
      " [0. 1. 1. 0. 1.]\n",
      " [0. 1. 1. 1. 1.]\n",
      " [1. 0. 0. 0. 1.]\n",
      " [1. 0. 0. 1. 1.]\n",
      " [1. 0. 1. 0. 1.]\n",
      " [1. 0. 1. 1. 1.]\n",
      " [1. 1. 0. 0. 1.]\n",
      " [1. 1. 0. 1. 1.]\n",
      " [1. 1. 1. 0. 1.]\n",
      " [1. 1. 1. 1. 1.]]\n"
     ]
    }
   ],
   "source": [
    "#Part B\n",
    "\n",
    "import numpy as np\n",
    "\n",
    "\n",
    "inputs = np.zeros((16,5)) \n",
    "\n",
    "# For generating the all possible input values, concatenated with the bias vector. 5th column is all 1, which\n",
    "# represents the bias vector.\n",
    "def generateInputVector(inputVector):\n",
    "    for i in range(np.shape(inputVector)[0]):        \n",
    "        temp = bin(i).split('b')\n",
    "        temp = temp[-1]\n",
    "        rowVector = [int(x) for x in str(temp)] \n",
    "        rowVector.append(1)\n",
    "        sizeRowVector = len(rowVector)\n",
    "        inputVector[i, (np.shape(inputVector)[1]) - sizeRowVector:] = rowVector[:]\n",
    "    return inputVector\n",
    "\n",
    "inputs = generateInputVector(inputs)\n",
    "print(inputs)"
   ]
  },
  {
   "cell_type": "code",
   "execution_count": 2,
   "metadata": {},
   "outputs": [],
   "source": [
    "# The activation function which the the unit step function.\n",
    "def unitStepFunction(k):\n",
    "    k = np.where(k<0, 0,1)\n",
    "    return k"
   ]
  },
  {
   "cell_type": "code",
   "execution_count": 3,
   "metadata": {},
   "outputs": [],
   "source": [
    "# Hand calculated weights for hidden layer and output layer.\n",
    "\n",
    "hiddenweights = np.array([[5, 0, 5, 5, -13],\n",
    "                           [0, -4, 5, 5, -9],\n",
    "                           [-6, 11, -5, 0, -10],\n",
    "                           [-5, 13, 0, -6, -11]])\n",
    "\n",
    "outputweights = np.array([2, 3, 5, 7, -1])"
   ]
  },
  {
   "cell_type": "code",
   "execution_count": 4,
   "metadata": {},
   "outputs": [
    {
     "name": "stdout",
     "output_type": "stream",
     "text": [
      "[[0. 0. 0. 0. 1.]\n",
      " [0. 0. 0. 0. 1.]\n",
      " [0. 0. 0. 0. 1.]\n",
      " [0. 1. 0. 0. 1.]\n",
      " [0. 0. 1. 1. 1.]\n",
      " [0. 0. 1. 0. 1.]\n",
      " [0. 0. 0. 1. 1.]\n",
      " [0. 0. 0. 0. 1.]\n",
      " [0. 0. 0. 0. 1.]\n",
      " [0. 0. 0. 0. 1.]\n",
      " [0. 0. 0. 0. 1.]\n",
      " [1. 1. 0. 0. 1.]\n",
      " [0. 0. 0. 0. 1.]\n",
      " [0. 0. 0. 0. 1.]\n",
      " [0. 0. 0. 0. 1.]\n",
      " [1. 0. 0. 0. 1.]]\n"
     ]
    }
   ],
   "source": [
    "# Testing the network with given weights.\n",
    "\n",
    "hiddenOutsTemp = unitStepFunction(inputs.dot(hiddenweights.T))\n",
    "\n",
    "# Again, adding the bias vector before going into output neuron.\n",
    "bias = np.ones((16,1))\n",
    "hiddenOuts = np.concatenate((hiddenOutsTemp, bias),axis =1)\n",
    "print(hiddenOuts)"
   ]
  },
  {
   "cell_type": "code",
   "execution_count": 5,
   "metadata": {},
   "outputs": [
    {
     "name": "stdout",
     "output_type": "stream",
     "text": [
      "[0 0 0 1 1 1 1 0 0 0 0 1 0 0 0 1]\n"
     ]
    }
   ],
   "source": [
    "# Final output for the network with given weights.\n",
    "\n",
    "outputs = unitStepFunction(hiddenOuts.dot(outputweights.T))\n",
    "print(outputs)"
   ]
  },
  {
   "cell_type": "code",
   "execution_count": 6,
   "metadata": {},
   "outputs": [],
   "source": [
    "# Implementation of the logic function. Therefore, we can test the performance of the network above.\n",
    "\n",
    "def xor_gate(a, b):\n",
    "    result = (a and (not b)) or ((not a) and b)\n",
    "    return result\n",
    "\n",
    "def logicFunction(inputVector):\n",
    "    result = list()\n",
    "    for i in range(np.shape(inputVector)[0]):\n",
    "        temp = xor_gate(inputVector[i,0] or (not inputVector[i,1]), (not inputVector[i,2]) or (not inputVector[i,3]))\n",
    "        result.append(temp)\n",
    "    return result"
   ]
  },
  {
   "cell_type": "code",
   "execution_count": 7,
   "metadata": {},
   "outputs": [
    {
     "name": "stdout",
     "output_type": "stream",
     "text": [
      "[False, False, False, True, True, True, True, False, False, False, False, True, False, False, False, True]\n"
     ]
    }
   ],
   "source": [
    "# The outputs from the logic function. We will check this output with the ones we have found above.\n",
    "outputsCheck = logicFunction(inputs[:,0:4])\n",
    "print(outputsCheck)"
   ]
  },
  {
   "cell_type": "code",
   "execution_count": 8,
   "metadata": {},
   "outputs": [],
   "source": [
    "# For calculating the accuracy of the network, accuracyCalc function is defined.\n",
    "\n",
    "def accuracyCalc(x, y):\n",
    "    result = 0\n",
    "    count = 0\n",
    "    size = np.shape(x)[0]\n",
    "    sentence = 'The accuracy of the model is: '\n",
    "    for i in range(size):\n",
    "        if (x[i] == y[i]):\n",
    "            count = count +1\n",
    "    result = (count / size) * 100\n",
    "    \n",
    "    return result"
   ]
  },
  {
   "cell_type": "code",
   "execution_count": 9,
   "metadata": {},
   "outputs": [
    {
     "name": "stdout",
     "output_type": "stream",
     "text": [
      "The accuracy of the model is: 100.0\n"
     ]
    }
   ],
   "source": [
    "# The accuracy result between the network and the logic function itself.\n",
    "\n",
    "accuracy = accuracyCalc(outputs, outputsCheck)\n",
    "print('The accuracy of the model is: ' + str(accuracy))"
   ]
  },
  {
   "cell_type": "code",
   "execution_count": 10,
   "metadata": {},
   "outputs": [],
   "source": [
    "# Part C\n",
    "\n",
    "# Robust Weights\n",
    "# w_rh = robust weights for hidden layer\n",
    "# w_ro = robust weights for output layer\n",
    "\n",
    "w_rh = np.array([[1, 0, 1, 1, -2.5],\n",
    "                           [0, -1, 1, 1, -1.5],\n",
    "                           [-1, 1, -1, 0, -0.5],\n",
    "                           [-1, 1, 0, -1, -0.5]])\n",
    "\n",
    "w_ro = np.array([1, 1, 1, 1, -0.5])"
   ]
  },
  {
   "cell_type": "code",
   "execution_count": 11,
   "metadata": {},
   "outputs": [],
   "source": [
    "# Part D\n",
    "\n",
    "# Generate 400 input samples by concatenating 25 samples from each input.\n",
    "inputsWithNoise = np.zeros((400,5))\n",
    "for k in range(25):\n",
    "    for i in range(np.shape(inputs)[0]):\n",
    "        inputsWithNoise[(k*16)+i,:] = inputs[i,:]\n",
    "\n",
    "# Then check the outputs of the inputsWithNoise.\n",
    "outputsCheck_D = logicFunction(inputsWithNoise[:,0:4])\n",
    "\n",
    "# Create a gaussian noise with 0 mean and 0.2 std. Then add this noise to the inputsWithNoise array.\n",
    "# np.random.seed(7) is for getting the same output each run.\n",
    "np.random.seed(7)\n",
    "gaussianNoise = np.random.normal(loc=0, scale=0.2, size=1600).reshape(400, 4)\n",
    "inputsWithNoise[:, 0:4] += gaussianNoise        "
   ]
  },
  {
   "cell_type": "code",
   "execution_count": 12,
   "metadata": {},
   "outputs": [],
   "source": [
    "# Then test the inputsWithNoise with the random weights network.\n",
    "\n",
    "outputTemp = unitStepFunction(inputsWithNoise.dot(hiddenweights.T))\n",
    "bias = np.ones((400,1))\n",
    "hiddenOutsTemp = np.concatenate((outputTemp, bias),axis =1)\n",
    "\n",
    "random_network_output = unitStepFunction(hiddenOutsTemp.dot(outputweights.T))"
   ]
  },
  {
   "cell_type": "code",
   "execution_count": 13,
   "metadata": {},
   "outputs": [],
   "source": [
    "# Then test the inputsWithNoise with the robust weights network.\n",
    "\n",
    "robustOutputTemp = unitStepFunction(inputsWithNoise.dot(w_rh.T))\n",
    "bias = np.ones((400,1))\n",
    "robustHiddenOuts = np.concatenate((robustOutputTemp, bias),axis =1)\n",
    "\n",
    "robust_network_output = unitStepFunction(robustHiddenOuts.dot(w_ro.T))"
   ]
  },
  {
   "cell_type": "code",
   "execution_count": 14,
   "metadata": {},
   "outputs": [
    {
     "name": "stdout",
     "output_type": "stream",
     "text": [
      "The accuracy of the random weighted network is: 86.75\n"
     ]
    }
   ],
   "source": [
    "# Accuracy of the random weight network.\n",
    "\n",
    "accuracy = accuracyCalc(random_network_output, outputsCheck_D)\n",
    "print('The accuracy of the random weighted network is: ' + str(accuracy))"
   ]
  },
  {
   "cell_type": "code",
   "execution_count": 15,
   "metadata": {},
   "outputs": [
    {
     "name": "stdout",
     "output_type": "stream",
     "text": [
      "The accuracy of the robust network is: 90.0\n"
     ]
    }
   ],
   "source": [
    "# Accuracy of the robust network.\n",
    "\n",
    "accuracy = accuracyCalc(robust_network_output, outputsCheck_D)\n",
    "print('The accuracy of the robust network is: ' + str(accuracy))"
   ]
  }
 ],
 "metadata": {
  "kernelspec": {
   "display_name": "Python 3",
   "language": "python",
   "name": "python3"
  },
  "language_info": {
   "codemirror_mode": {
    "name": "ipython",
    "version": 3
   },
   "file_extension": ".py",
   "mimetype": "text/x-python",
   "name": "python",
   "nbconvert_exporter": "python",
   "pygments_lexer": "ipython3",
   "version": "3.7.4"
  }
 },
 "nbformat": 4,
 "nbformat_minor": 2
}
